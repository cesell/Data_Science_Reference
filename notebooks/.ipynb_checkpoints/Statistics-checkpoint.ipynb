{
 "cells": [
  {
   "cell_type": "markdown",
   "metadata": {},
   "source": [
    "# Central Limit Theorem"
   ]
  },
  {
   "cell_type": "markdown",
   "metadata": {},
   "source": [
    "The central limit theorem states that the sum of a number of independent and identically distributed (i.i.d.) random variables with finite non-zero variances will tend to a normal distribution as the number of variables grows.  The mean for both the populationa and the samples is the same and the standard deviation of the sample and the standard deviation of the population are related by:\n",
    "\n",
    "$\\LARGE  SE = \\frac{\\sigma}{\\sqrt{2}{n}}$  \n",
    "\n",
    "This is known as the **standard error**.  Obviously, as n increases the standard error is smaller."
   ]
  },
  {
   "cell_type": "code",
   "execution_count": 2,
   "metadata": {
    "hide_input": false
   },
   "outputs": [],
   "source": [
    "import numpy as np\n",
    "import seaborn as sns\n",
    "import matplotlib.pyplot as plt\n",
    "from itertools import combinations_with_replacement"
   ]
  },
  {
   "cell_type": "markdown",
   "metadata": {},
   "source": [
    "## Example 1"
   ]
  },
  {
   "cell_type": "code",
   "execution_count": 3,
   "metadata": {
    "hide_input": false,
    "scrolled": true
   },
   "outputs": [
    {
     "name": "stdout",
     "output_type": "stream",
     "text": [
      "Population =  [1 2 3 4]\n",
      "Sigma = 2.5 STD = 1.12\n",
      "Samples =  [(1, 1), (1, 2), (1, 3), (1, 4), (2, 2), (2, 3), (2, 4), (3, 3), (3, 4), (4, 4)]\n",
      "SE = 2.5 STD = 0.87\n"
     ]
    }
   ],
   "source": [
    "population_size = 4\n",
    "population = np.arange(1,population_size+1)\n",
    "n = 2  # Sample size\n",
    "samples = list(combinations_with_replacement(population, n))\n",
    "ev_samples = [np.average(x) for x in samples]\n",
    "print('Population = ', population)\n",
    "print(f'Sigma = {np.mean(population)} STD = {np.std(population):.2f}')\n",
    "print('Samples = ',samples[:10])\n",
    "print(f'SE = {np.mean(ev_samples)} STD = {np.std(ev_samples):.2f}')"
   ]
  },
  {
   "cell_type": "code",
   "execution_count": 88,
   "metadata": {},
   "outputs": [
    {
     "name": "stdout",
     "output_type": "stream",
     "text": [
      "[1.0, 1.5, 2.0, 2.5, 3.0, 3.5, 2.0, 2.5, 3.0, 3.5, 4.0, 3.0, 3.5, 4.0, 4.5, 4.0, 4.5, 5.0, 5.0, 5.5, 6.0] --> 11 bins\n"
     ]
    },
    {
     "data": {
      "text/plain": [
       "<matplotlib.axes._subplots.AxesSubplot at 0x20df94bbda0>"
      ]
     },
     "execution_count": 88,
     "metadata": {},
     "output_type": "execute_result"
    },
    {
     "data": {
      "image/png": "[encoded data removed]",
      "text/plain": [
       "<matplotlib.figure.Figure at 0x20df94cb748>"
      ]
     },
     "metadata": {},
     "output_type": "display_data"
    }
   ],
   "source": [
    "bins = len(set(ev_samples))\n",
    "print(f'{ev_samples} --> {bins} bins')\n",
    "sns.distplot(ev_samples, bins=bins)"
   ]
  },
  {
   "cell_type": "markdown",
   "metadata": {},
   "source": [
    "## Example 2 : Rolling a die"
   ]
  },
  {
   "cell_type": "code",
   "execution_count": 44,
   "metadata": {},
   "outputs": [
    {
     "name": "stdout",
     "output_type": "stream",
     "text": [
      "Population =  [1 2 3 4 5 6]\n",
      "Sigma = 3.5 STD = 1.71\n",
      "Samples = [(5, 6, 2, 6, 4), (5, 3, 2, 3, 5), (4, 3, 5, 4, 5), (4, 5, 1, 3, 4), (4, 2, 3, 5, 1)] ...\n",
      "SE = 3.48 STD = 0.77\n",
      "Average of samples : [4.5999999999999996, 3.6000000000000001, 4.2000000000000002, 3.3999999999999999, 3.0]...    bins : 23\n"
     ]
    },
    {
     "data": {
      "text/plain": [
       "<matplotlib.axes._subplots.AxesSubplot at 0x28ec3d06048>"
      ]
     },
     "execution_count": 44,
     "metadata": {},
     "output_type": "execute_result"
    },
    {
     "data": {
      "image/png": "[encoded data removed]",
      "text/plain": [
       "<matplotlib.figure.Figure at 0x28ec3549dd8>"
      ]
     },
     "metadata": {},
     "output_type": "display_data"
    }
   ],
   "source": [
    "population_size = \n",
    "population = np.arange(1,population_size+1)\n",
    "n = 5  # Sample size\n",
    "num_of_samples = 1000\n",
    "samples = [ np.random.choice(population,n) for x in range(num_of_samples) ]\n",
    "ev_samples = [np.average(x) for x in samples]\n",
    "print('Population = ', population)\n",
    "print(f'Sigma = {np.mean(population)} STD = {np.std(population):.2f}')\n",
    "print(f'Samples = {[tuple(x) for x in samples][:5]} ...')\n",
    "print(f'SE = {np.mean(ev_samples):.2f} STD = {np.std(ev_samples):.2f}')\n",
    "bins = len(set(ev_samples))\n",
    "print(f'Average of samples : {ev_samples[:5]}...    bins : {bins}')\n",
    "sns.distplot(ev_samples, bins=bins)"
   ]
  }
 ],
 "metadata": {
  "kernelspec": {
   "display_name": "dsref",
   "language": "python",
   "name": "dsref"
  },
  "language_info": {
   "codemirror_mode": {
    "name": "ipython",
    "version": 3
   },
   "file_extension": ".py",
   "mimetype": "text/x-python",
   "name": "python",
   "nbconvert_exporter": "python",
   "pygments_lexer": "ipython3",
   "version": "3.6.4"
  },
  "toc": {
   "base_numbering": 1,
   "nav_menu": {
    "height": "210px",
    "width": "160px"
   },
   "number_sections": false,
   "sideBar": true,
   "skip_h1_title": false,
   "title_cell": "Table of Contents",
   "title_sidebar": "Contents",
   "toc_cell": false,
   "toc_position": {
    "height": "292px",
    "left": "1115px",
    "top": "94px",
    "width": "165px"
   },
   "toc_section_display": true,
   "toc_window_display": false
  }
 },
 "nbformat": 4,
 "nbformat_minor": 2
}

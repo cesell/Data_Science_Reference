{
 "cells": [
  {
   "cell_type": "markdown",
   "metadata": {},
   "source": [
    "# Reading Data\n",
    "This shows usual procedures to capture the data."
   ]
  },
  {
   "cell_type": "code",
   "execution_count": 20,
   "metadata": {
    "collapsed": true
   },
   "outputs": [],
   "source": [
    "import pandas as pd\n",
    "import json\n",
    "import pickle\n",
    "import os\n",
    "\n",
    "os.chdir('..\\\\src')\n",
    "import data"
   ]
  },
  {
   "cell_type": "markdown",
   "metadata": {},
   "source": [
    "## Text and Json Files"
   ]
  },
  {
   "cell_type": "code",
   "execution_count": 2,
   "metadata": {},
   "outputs": [
    {
     "name": "stdout",
     "output_type": "stream",
     "text": [
      "line 0: This is some file\n",
      "line 1: It has a few line\n",
      "line 2: This is the last line\n",
      "\n",
      "Json->Text\n",
      " {'title': 'Fight Club', 'watched': True, 'year': 1999, 'actors': ['Brad Pitt', 'Edward Norton', 'Helena Bonham Carter']}\n",
      "\n",
      "Text->Json\n",
      " {\n",
      "    \"title\": \"Fight Club\",\n",
      "    \"watched\": true,\n",
      "    \"year\": 1999,\n",
      "    \"actors\": [\n",
      "        \"Brad Pitt\",\n",
      "        \"Edward Norton\",\n",
      "        \"Helena Bonham Carter\"\n",
      "    ]\n",
      "}\n",
      "\n",
      "Movies from the 90s\n",
      "Simple Text File\n",
      "Fight Club\n",
      "Goodfellas\n",
      "Forrest Gump\n"
     ]
    }
   ],
   "source": [
    "for i, line in data.read_txt(r'..\\data\\some_file.txt'):\n",
    "        print('line {}: {}'.format(i, line))\n",
    "\n",
    "movie = data.read_json(r'..\\data\\movie.json')\n",
    "\n",
    "print('\\nJson->Text\\n', movie)\n",
    "print('\\nText->Json\\n', json.dumps(movie, indent=4))\n",
    "\n",
    "print('\\nMovies from the 90s')\n",
    "for title in data.read_jsonl(r'..\\data\\movies-90s.jsonl'):\n",
    "    print(title)"
   ]
  },
  {
   "cell_type": "markdown",
   "metadata": {},
   "source": [
    "## CSV Files"
   ]
  },
  {
   "cell_type": "code",
   "execution_count": 5,
   "metadata": {},
   "outputs": [
    {
     "name": "stdout",
     "output_type": "stream",
     "text": [
      "\n",
      "CSV File\n",
      "{'NAME': 'Alice', 'AGE': '30', 'LANGUAGE': 'English'}\n",
      "{'NAME': 'Bob', 'AGE': '25', 'LANGUAGE': 'Spanish'}\n",
      "{'NAME': 'Charlie', 'AGE': '35', 'LANGUAGE': 'French'}\n"
     ]
    }
   ],
   "source": [
    "fname = r'..\\data\\data.csv'\n",
    "print('\\nCSV File')\n",
    "csv = data.read_csv(fname)\n",
    "for line in csv:\n",
    "    print(line)"
   ]
  },
  {
   "cell_type": "markdown",
   "metadata": {},
   "source": [
    "## Pickle Files\n",
    "For storing more complex objects"
   ]
  },
  {
   "cell_type": "code",
   "execution_count": 18,
   "metadata": {},
   "outputs": [
    {
     "name": "stdout",
     "output_type": "stream",
     "text": [
      "[1, 'b', 3.14] [1, 'b', 3.14] True\n"
     ]
    }
   ],
   "source": [
    "import pickle\n",
    "x = [1,'b',3.14]\n",
    "with open('test.pickle','wb') as f:\n",
    "    pickle.dump(l,f)\n",
    "with open('test.pickle','rb') as f:\n",
    "    y = pickle.load(f)\n",
    "print(x,y,x==y)"
   ]
  },
  {
   "cell_type": "markdown",
   "metadata": {},
   "source": [
    "## Importing with Pandas"
   ]
  },
  {
   "cell_type": "code",
   "execution_count": 22,
   "metadata": {},
   "outputs": [
    {
     "data": {
      "text/html": [
       "<div>\n",
       "<style>\n",
       "    .dataframe thead tr:only-child th {\n",
       "        text-align: right;\n",
       "    }\n",
       "\n",
       "    .dataframe thead th {\n",
       "        text-align: left;\n",
       "    }\n",
       "\n",
       "    .dataframe tbody tr th {\n",
       "        vertical-align: top;\n",
       "    }\n",
       "</style>\n",
       "<table border=\"1\" class=\"dataframe\">\n",
       "  <thead>\n",
       "    <tr style=\"text-align: right;\">\n",
       "      <th></th>\n",
       "      <th>actors</th>\n",
       "      <th>title</th>\n",
       "      <th>watched</th>\n",
       "      <th>year</th>\n",
       "    </tr>\n",
       "  </thead>\n",
       "  <tbody>\n",
       "    <tr>\n",
       "      <th>0</th>\n",
       "      <td>Brad Pitt</td>\n",
       "      <td>Fight Club</td>\n",
       "      <td>True</td>\n",
       "      <td>1999</td>\n",
       "    </tr>\n",
       "    <tr>\n",
       "      <th>1</th>\n",
       "      <td>Edward Norton</td>\n",
       "      <td>Fight Club</td>\n",
       "      <td>True</td>\n",
       "      <td>1999</td>\n",
       "    </tr>\n",
       "    <tr>\n",
       "      <th>2</th>\n",
       "      <td>Helena Bonham Carter</td>\n",
       "      <td>Fight Club</td>\n",
       "      <td>True</td>\n",
       "      <td>1999</td>\n",
       "    </tr>\n",
       "  </tbody>\n",
       "</table>\n",
       "</div>"
      ],
      "text/plain": [
       "                 actors       title  watched  year\n",
       "0             Brad Pitt  Fight Club     True  1999\n",
       "1         Edward Norton  Fight Club     True  1999\n",
       "2  Helena Bonham Carter  Fight Club     True  1999"
      ]
     },
     "execution_count": 22,
     "metadata": {},
     "output_type": "execute_result"
    }
   ],
   "source": [
    "data = pd.read_json(r'..\\data\\movie.json')\n",
    "data"
   ]
  },
  {
   "cell_type": "code",
   "execution_count": 32,
   "metadata": {},
   "outputs": [
    {
     "data": {
      "text/html": [
       "<div>\n",
       "<style>\n",
       "    .dataframe thead tr:only-child th {\n",
       "        text-align: right;\n",
       "    }\n",
       "\n",
       "    .dataframe thead th {\n",
       "        text-align: left;\n",
       "    }\n",
       "\n",
       "    .dataframe tbody tr th {\n",
       "        vertical-align: top;\n",
       "    }\n",
       "</style>\n",
       "<table border=\"1\" class=\"dataframe\">\n",
       "  <thead>\n",
       "    <tr style=\"text-align: right;\">\n",
       "      <th></th>\n",
       "      <th>actors</th>\n",
       "      <th>title</th>\n",
       "      <th>watched</th>\n",
       "      <th>year</th>\n",
       "    </tr>\n",
       "  </thead>\n",
       "  <tbody>\n",
       "    <tr>\n",
       "      <th>0</th>\n",
       "      <td>[Brad Pitt, Edward Norton, Helena Bonham Carter]</td>\n",
       "      <td>Fight Club</td>\n",
       "      <td>True</td>\n",
       "      <td>1999</td>\n",
       "    </tr>\n",
       "    <tr>\n",
       "      <th>1</th>\n",
       "      <td>[Robert De Niro, Ray Liotta, Joe Pesci]</td>\n",
       "      <td>Goodfellas</td>\n",
       "      <td>True</td>\n",
       "      <td>1990</td>\n",
       "    </tr>\n",
       "    <tr>\n",
       "      <th>2</th>\n",
       "      <td>[Tom Hanks, Robin Wright]</td>\n",
       "      <td>Forrest Gump</td>\n",
       "      <td>True</td>\n",
       "      <td>1994</td>\n",
       "    </tr>\n",
       "  </tbody>\n",
       "</table>\n",
       "</div>"
      ],
      "text/plain": [
       "                                             actors         title  watched  \\\n",
       "0  [Brad Pitt, Edward Norton, Helena Bonham Carter]    Fight Club     True   \n",
       "1           [Robert De Niro, Ray Liotta, Joe Pesci]    Goodfellas     True   \n",
       "2                         [Tom Hanks, Robin Wright]  Forrest Gump     True   \n",
       "\n",
       "   year  \n",
       "0  1999  \n",
       "1  1990  \n",
       "2  1994  "
      ]
     },
     "execution_count": 32,
     "metadata": {},
     "output_type": "execute_result"
    }
   ],
   "source": [
    "data = pd.read_json(r'..\\data\\movies-90s.jsonl', lines=True)\n",
    "data"
   ]
  },
  {
   "cell_type": "code",
   "execution_count": 33,
   "metadata": {},
   "outputs": [
    {
     "data": {
      "text/html": [
       "<div>\n",
       "<style>\n",
       "    .dataframe thead tr:only-child th {\n",
       "        text-align: right;\n",
       "    }\n",
       "\n",
       "    .dataframe thead th {\n",
       "        text-align: left;\n",
       "    }\n",
       "\n",
       "    .dataframe tbody tr th {\n",
       "        vertical-align: top;\n",
       "    }\n",
       "</style>\n",
       "<table border=\"1\" class=\"dataframe\">\n",
       "  <thead>\n",
       "    <tr style=\"text-align: right;\">\n",
       "      <th></th>\n",
       "      <th>NAME</th>\n",
       "      <th>AGE</th>\n",
       "      <th>LANGUAGE</th>\n",
       "    </tr>\n",
       "  </thead>\n",
       "  <tbody>\n",
       "    <tr>\n",
       "      <th>0</th>\n",
       "      <td>Alice</td>\n",
       "      <td>30</td>\n",
       "      <td>English</td>\n",
       "    </tr>\n",
       "    <tr>\n",
       "      <th>1</th>\n",
       "      <td>Bob</td>\n",
       "      <td>25</td>\n",
       "      <td>Spanish</td>\n",
       "    </tr>\n",
       "    <tr>\n",
       "      <th>2</th>\n",
       "      <td>Charlie</td>\n",
       "      <td>35</td>\n",
       "      <td>French</td>\n",
       "    </tr>\n",
       "  </tbody>\n",
       "</table>\n",
       "</div>"
      ],
      "text/plain": [
       "      NAME  AGE LANGUAGE\n",
       "0    Alice   30  English\n",
       "1      Bob   25  Spanish\n",
       "2  Charlie   35   French"
      ]
     },
     "execution_count": 33,
     "metadata": {},
     "output_type": "execute_result"
    }
   ],
   "source": [
    "data = pd.read_csv(r'..\\data\\data.csv')\n",
    "data"
   ]
  }
 ],
 "metadata": {
  "kernelspec": {
   "display_name": "Python 3.7",
   "language": "python",
   "name": "p37"
  },
  "language_info": {
   "codemirror_mode": {
    "name": "ipython",
    "version": 3
   },
   "file_extension": ".py",
   "mimetype": "text/x-python",
   "name": "python",
   "nbconvert_exporter": "python",
   "pygments_lexer": "ipython3",
   "version": "3.7.2"
  }
 },
 "nbformat": 4,
 "nbformat_minor": 2
}

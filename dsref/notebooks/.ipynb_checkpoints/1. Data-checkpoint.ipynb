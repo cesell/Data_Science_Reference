{
 "cells": [
  {
   "cell_type": "markdown",
   "metadata": {},
   "source": [
    "# Reading Data\n",
    "This shows usual procedures to capture the data."
   ]
  },
  {
   "cell_type": "code",
   "execution_count": 1,
   "metadata": {},
   "outputs": [],
   "source": [
    "import pandas as pd\n",
    "import json\n",
    "import pickle\n",
    "import os\n",
    "\n",
    "os.chdir('..\\\\src')\n",
    "import data"
   ]
  },
  {
   "cell_type": "markdown",
   "metadata": {},
   "source": [
    "## Text and Json Files"
   ]
  },
  {
   "cell_type": "code",
   "execution_count": 2,
   "metadata": {},
   "outputs": [
    {
     "name": "stdout",
     "output_type": "stream",
     "text": [
      "line 0: This is some file\n",
      "line 1: It has a few line\n",
      "line 2: This is the last line\n",
      "\n",
      "Json->Text\n",
      " {'title': 'Fight Club', 'watched': True, 'year': 1999, 'actors': ['Brad Pitt', 'Edward Norton', 'Helena Bonham Carter']}\n",
      "\n",
      "Text->Json\n",
      " {\n",
      "    \"title\": \"Fight Club\",\n",
      "    \"watched\": true,\n",
      "    \"year\": 1999,\n",
      "    \"actors\": [\n",
      "        \"Brad Pitt\",\n",
      "        \"Edward Norton\",\n",
      "        \"Helena Bonham Carter\"\n",
      "    ]\n",
      "}\n",
      "\n",
      "Movies from the 90s\n",
      "Simple Text File\n",
      "Fight Club\n",
      "Goodfellas\n",
      "Forrest Gump\n"
     ]
    }
   ],
   "source": [
    "for i, line in data.read_txt(r'..\\data\\some_file.txt'):\n",
    "        print('line {}: {}'.format(i, line))\n",
    "\n",
    "movie = data.read_json(r'..\\data\\movie.json')\n",
    "\n",
    "print('\\nJson->Text\\n', movie)\n",
    "print('\\nText->Json\\n', json.dumps(movie, indent=4))\n",
    "\n",
    "print('\\nMovies from the 90s')\n",
    "for title in data.read_jsonl(r'..\\data\\movies-90s.jsonl'):\n",
    "    print(title)"
   ]
  },
  {
   "cell_type": "markdown",
   "metadata": {},
   "source": [
    "## CSV Files"
   ]
  },
  {
   "cell_type": "code",
   "execution_count": 5,
   "metadata": {},
   "outputs": [
    {
     "name": "stdout",
     "output_type": "stream",
     "text": [
      "\n",
      "CSV File\n",
      "{'NAME': 'Alice', 'AGE': '30', 'LANGUAGE': 'English'}\n",
      "{'NAME': 'Bob', 'AGE': '25', 'LANGUAGE': 'Spanish'}\n",
      "{'NAME': 'Charlie', 'AGE': '35', 'LANGUAGE': 'French'}\n"
     ]
    }
   ],
   "source": [
    "fname = r'..\\data\\data.csv'\n",
    "print('\\nCSV File')\n",
    "csv = data.read_csv(fname)\n",
    "for line in csv:\n",
    "    print(line)"
   ]
  },
  {
   "cell_type": "markdown",
   "metadata": {},
   "source": [
    "## Pickle Files\n",
    "For storing more complex objects"
   ]
  },
  {
   "cell_type": "code",
   "execution_count": 18,
   "metadata": {},
   "outputs": [
    {
     "name": "stdout",
     "output_type": "stream",
     "text": [
      "[1, 'b', 3.14] [1, 'b', 3.14] True\n"
     ]
    }
   ],
   "source": [
    "import pickle\n",
    "x = [1,'b',3.14]\n",
    "with open('test.pickle','wb') as f:\n",
    "    pickle.dump(l,f)\n",
    "with open('test.pickle','rb') as f:\n",
    "    y = pickle.load(f)\n",
    "print(x,y,x==y)"
   ]
  },
  {
   "cell_type": "markdown",
   "metadata": {},
   "source": [
    "## Importing with Pandas"
   ]
  },
  {
   "cell_type": "code",
   "execution_count": null,
   "metadata": {
    "collapsed": true
   },
   "outputs": [],
   "source": []
  }
 ],
 "metadata": {
  "kernelspec": {
   "display_name": "Python 3",
   "language": "python",
   "name": "python3"
  },
  "language_info": {
   "codemirror_mode": {
    "name": "ipython",
    "version": 3
   },
   "file_extension": ".py",
   "mimetype": "text/x-python",
   "name": "python",
   "nbconvert_exporter": "python",
   "pygments_lexer": "ipython3",
   "version": "3.6.4"
  }
 },
 "nbformat": 4,
 "nbformat_minor": 2
}

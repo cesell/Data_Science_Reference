{
 "cells": [
  {
   "cell_type": "markdown",
   "metadata": {},
   "source": [
    "# Central Limit Theorem"
   ]
  },
  {
   "cell_type": "markdown",
   "metadata": {},
   "source": [
    "The central limit theorem states that the sum of a number of independent and identically distributed (i.i.d.) random variables with finite non-zero variances will tend to a normal distribution as the number of variables grows.  The mean for both the populationa and the samples is the same and the standard deviation of the sample and the standard deviation of the population are related by:\n",
    "\n",
    "$\\LARGE  SE = \\frac{\\sigma}{\\sqrt{2}{n}}$  \n",
    "\n",
    "This is known as the **standard error**.  Obviously, as n increases the standard error is smaller."
   ]
  },
  {
   "cell_type": "code",
   "execution_count": 2,
   "metadata": {
    "hide_input": false
   },
   "outputs": [],
   "source": [
    "import numpy as np\n",
    "import seaborn as sns\n",
    "import matplotlib.pyplot as plt\n",
    "from itertools import combinations_with_replacement"
   ]
  },
  {
   "cell_type": "markdown",
   "metadata": {},
   "source": [
    "## Example : Uniform Distribution"
   ]
  },
  {
   "cell_type": "code",
   "execution_count": 17,
   "metadata": {},
   "outputs": [
    {
     "name": "stdout",
     "output_type": "stream",
     "text": [
      "Population = [6 6 2 5 1 3 4 1 2 3 2 6 6 1 5 5 1 4 1 2] ...\n",
      "Sigma = 3.413 STD = 1.68\n",
      "Samples = [(5, 2, 4, 1, 6), (1, 4, 4, 2, 2), (3, 1, 4, 2, 5), (5, 5, 3, 5, 2), (6, 2, 2, 6, 2)] ...\n",
      "Sigma_ = 3.41 STD = 0.75\n",
      "Average of samples : [ 3.6  2.6  3.   4.   3.6]...    bins : 25\n"
     ]
    },
    {
     "data": {
      "text/plain": [
       "<matplotlib.axes._subplots.AxesSubplot at 0x2098b7892e8>"
      ]
     },
     "execution_count": 17,
     "metadata": {},
     "output_type": "execute_result"
    },
    {
     "data": {
      "image/png": "[encoded data removed]",
      "text/plain": [
       "<matplotlib.figure.Figure at 0x2098b777550>"
      ]
     },
     "metadata": {},
     "output_type": "display_data"
    }
   ],
   "source": [
    "size = 1000\n",
    "population = np.random.randint(low=1, high=7, size=size)\n",
    "print(f'Population = {population[:20]} ...')\n",
    "print(f'Sigma = {np.mean(population)} STD = {np.std(population):.2f}')\n",
    "bins = len(set(population))\n",
    "sns.distplot(population, bins=bins)\n",
    "\n",
    "n = 5  # Sample size\n",
    "num_of_samples = 10000\n",
    "samples = [ np.random.choice(population,n) for x in range(num_of_samples) ]\n",
    "ev_samples = [np.average(x) for x in samples]\n",
    "print(f'Samples = {[tuple(x) for x in samples][:5]} ...')\n",
    "print(f'Sigma_ = {np.mean(ev_samples):.2f} STD = {np.std(ev_samples):.2f}')\n",
    "bins = len(set(ev_samples))\n",
    "print(f'Average of samples : {np.around(ev_samples[:5],decimals=2)}...    bins : {bins}')\n",
    "sns.distplot(ev_samples, bins=bins)"
   ]
  }
 ],
 "metadata": {
  "kernelspec": {
   "display_name": "dsref",
   "language": "python",
   "name": "dsref"
  },
  "language_info": {
   "codemirror_mode": {
    "name": "ipython",
    "version": 3
   },
   "file_extension": ".py",
   "mimetype": "text/x-python",
   "name": "python",
   "nbconvert_exporter": "python",
   "pygments_lexer": "ipython3",
   "version": "3.6.4"
  },
  "toc": {
   "base_numbering": 1,
   "nav_menu": {
    "height": "210px",
    "width": "160px"
   },
   "number_sections": false,
   "sideBar": true,
   "skip_h1_title": false,
   "title_cell": "Table of Contents",
   "title_sidebar": "Contents",
   "toc_cell": false,
   "toc_position": {
    "height": "292px",
    "left": "1115px",
    "top": "94px",
    "width": "165px"
   },
   "toc_section_display": true,
   "toc_window_display": false
  }
 },
 "nbformat": 4,
 "nbformat_minor": 2
}
